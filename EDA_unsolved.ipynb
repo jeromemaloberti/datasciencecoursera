{
  "nbformat": 4,
  "nbformat_minor": 0,
  "metadata": {
    "colab": {
      "provenance": [],
      "include_colab_link": true
    },
    "kernelspec": {
      "name": "python3",
      "display_name": "Python 3"
    },
    "language_info": {
      "name": "python"
    }
  },
  "cells": [
    {
      "cell_type": "markdown",
      "metadata": {
        "id": "view-in-github",
        "colab_type": "text"
      },
      "source": [
        "<a href=\"https://colab.research.google.com/github/jeromemaloberti/datasciencecoursera/blob/master/EDA_unsolved.ipynb\" target=\"_parent\"><img src=\"https://colab.research.google.com/assets/colab-badge.svg\" alt=\"Open In Colab\"/></a>"
      ]
    },
    {
      "cell_type": "code",
      "execution_count": null,
      "metadata": {
        "id": "Rt_T27qlFL7l"
      },
      "outputs": [],
      "source": [
        "import pandas as pd\n",
        "import seaborn as sns\n",
        "import matplotlib.pyplot as plt #note matplotlib is imported differently than pandas and seaborn, functionally is not on the top level module like the other 2 libraries.\n"
      ]
    },
    {
      "cell_type": "markdown",
      "source": [
        "# 1. A **solid foundation** with Matplotlib and Seaborn:"
      ],
      "metadata": {
        "id": "MDuyguC3r8BM"
      }
    },
    {
      "cell_type": "markdown",
      "source": [
        "Matplotlib Key points:"
      ],
      "metadata": {
        "id": "Hmuxkk7PsD-t"
      }
    },
    {
      "cell_type": "markdown",
      "source": [
        "* Figure object is outermost part of the chart, it is actually the whole chart. We can control, for example, chart size.\n",
        "\n",
        "* Axes object contains: ticks, minor ticks, labels, title, etc. It what you would think as the actual plot.\n",
        "\n",
        "* Axes is not the same as the axis of a chart. Axis is an element of the axes object.\n",
        "\n",
        "* **These concepts will also be useful in seaborn**\n",
        "\n",
        "More about: https://matplotlib.org/3.5.0/gallery/showcase/anatomy.html"
      ],
      "metadata": {
        "id": "jz2u0EQpoEeN"
      }
    },
    {
      "cell_type": "markdown",
      "source": [
        "![anatom.png](data:image/png;base64,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)"
      ],
      "metadata": {
        "id": "1kWXESUjJ4eL"
      }
    },
    {
      "cell_type": "markdown",
      "source": [
        "State based approach you don't instantiate objects in variables (Matlab inspired approach):"
      ],
      "metadata": {
        "id": "QrnHFDEJktcL"
      }
    },
    {
      "cell_type": "markdown",
      "source": [
        "Type with me:"
      ],
      "metadata": {
        "id": "IAiefcZEkkqH"
      }
    },
    {
      "cell_type": "code",
      "source": [
        "plt.subplots()"
      ],
      "metadata": {
        "id": "YeubPMxUkkH3",
        "colab": {
          "base_uri": "https://localhost:8080/",
          "height": 304
        },
        "outputId": "f8134c84-0d7a-4e06-f528-dd7efc9ee215"
      },
      "execution_count": null,
      "outputs": [
        {
          "output_type": "execute_result",
          "data": {
            "text/plain": [
              "(<Figure size 432x288 with 1 Axes>,\n",
              " <matplotlib.axes._subplots.AxesSubplot at 0x7fa8dc70bed0>)"
            ]
          },
          "metadata": {},
          "execution_count": 17
        },
        {
          "output_type": "display_data",
          "data": {
            "text/plain": [
              "<Figure size 432x288 with 1 Axes>"
            ],
            "image/png": "[encoded data removed]"
          },
          "metadata": {
            "needs_background": "light"
          }
        }
      ]
    },
    {
      "cell_type": "markdown",
      "source": [
        "Object oriented approach (The one used in this Guided Project):"
      ],
      "metadata": {
        "id": "GyxyShjXzrcL"
      }
    },
    {
      "cell_type": "code",
      "source": [
        "#Tuple returns two objects and objects instantiated as fig and ax variables:\n",
        "fig, ax  = plt.subplots()"
      ],
      "metadata": {
        "id": "f8sdeZu7-Wpl",
        "colab": {
          "base_uri": "https://localhost:8080/",
          "height": 269
        },
        "outputId": "76e96fe8-af87-4f0e-899f-6cadec06681c"
      },
      "execution_count": null,
      "outputs": [
        {
          "output_type": "display_data",
          "data": {
            "text/plain": [
              "<Figure size 432x288 with 1 Axes>"
            ],
            "image/png": "[encoded data removed]"
          },
          "metadata": {
            "needs_background": "light"
          }
        }
      ]
    },
    {
      "cell_type": "code",
      "source": [
        "print(fig) #figure object instantiated in the fig variable\n",
        "print(ax) #axes object instantiated in the ax variable"
      ],
      "metadata": {
        "id": "IeESi5xlsSWF",
        "colab": {
          "base_uri": "https://localhost:8080/"
        },
        "outputId": "6371ed61-5c8c-4e61-900a-48b8feeceef3"
      },
      "execution_count": null,
      "outputs": [
        {
          "output_type": "stream",
          "name": "stdout",
          "text": [
            "Figure(432x288)\n",
            "AxesSubplot(0.125,0.125;0.775x0.755)\n"
          ]
        }
      ]
    },
    {
      "cell_type": "code",
      "source": [
        "#Accessing methods inside instantiated axes object:\n",
        "ax.set_title(\"Title\")\n",
        "fig"
      ],
      "metadata": {
        "id": "alaSbCf5oLiY",
        "colab": {
          "base_uri": "https://localhost:8080/",
          "height": 281
        },
        "outputId": "80936478-fa25-41e4-95e4-cd45c0798a7b"
      },
      "execution_count": null,
      "outputs": [
        {
          "output_type": "execute_result",
          "data": {
            "text/plain": [
              "<Figure size 432x288 with 1 Axes>"
            ],
            "image/png": "[encoded data removed]"
          },
          "metadata": {},
          "execution_count": 20
        }
      ]
    },
    {
      "cell_type": "markdown",
      "source": [
        "In this stackoverflow post, you can see that some answers use the state based approach and others used the object oriented approach: https://stackoverflow.com/questions/332289/how-do-i-change-the-size-of-figures-drawn-with-matplotlib"
      ],
      "metadata": {
        "id": "Atv124Y3fyo7"
      }
    },
    {
      "cell_type": "markdown",
      "source": [
        "Seaborn Key points :"
      ],
      "metadata": {
        "id": "JHM4FUXldyNw"
      }
    },
    {
      "cell_type": "markdown",
      "source": [
        "* Seaborn is the 2nd most used Python data visualization library and **underlying it uses matplotlib methods and attributes**;\n",
        "\n",
        "* The standard coding style used is the object-oriented approach. We use similar methods, like in matplotlib.\n",
        "\n",
        "* Axes functions like matplotlib: **AxesSubplot** objects. **Examples of AxesSubplot methods: histplot(), kdeplot(), violinplot(), scatterplot(), swarmplot(), boxplot().**\n",
        "\n",
        "* **Grid objects**: [FacetGrid](https://seaborn.pydata.org/generated/seaborn.FacetGrid.html#seaborn.FacetGrid), [PairGrid](https://seaborn.pydata.org/generated/seaborn.PairGrid.html#seaborn.PairGrid) and [JointGrid](https://seaborn.pydata.org/generated/seaborn.JointGrid.html#seaborn.JointGrid) objects. Grid are a wraper's for matplotlib figure object. The most important to us is FacetGrid  to make small multiples charts (a chart with two or more plots/axes).PairGrid may be used to plot a grid of scatterplots and JointGrid is used to enhance a single chart. **Examples of FacetGrid are: relplot, displot and catplot.**"
      ],
      "metadata": {
        "id": "kKhXm4SId7zp"
      }
    },
    {
      "cell_type": "markdown",
      "source": [
        "Create and inspect seaborn objects:"
      ],
      "metadata": {
        "id": "zvHjpCYwsK7W"
      }
    },
    {
      "cell_type": "code",
      "source": [
        "#Example of a FacetGrid object (this is a small multiples chart):\n",
        "data_for_grid_obj = sns.load_dataset(\"exercise\")\n",
        "g = sns.catplot(data=data_for_grid_obj, y='pulse', x='time', hue='kind', col='diet'  ) \n",
        "#check the type of the object:\n",
        "type(g)"
      ],
      "metadata": {
        "colab": {
          "base_uri": "https://localhost:8080/",
          "height": 386
        },
        "id": "f6zOZ5r8r2ei",
        "outputId": "d5767b01-5fe7-4caf-e604-2cffaf6f91ed"
      },
      "execution_count": null,
      "outputs": [
        {
          "output_type": "execute_result",
          "data": {
            "text/plain": [
              "seaborn.axisgrid.FacetGrid"
            ]
          },
          "metadata": {},
          "execution_count": 21
        },
        {
          "output_type": "display_data",
          "data": {
            "text/plain": [
              "<Figure size 794.875x360 with 2 Axes>"
            ],
            "image/png": "[encoded data removed]"
          },
          "metadata": {
            "needs_background": "light"
          }
        }
      ]
    },
    {
      "cell_type": "code",
      "source": [
        "#Example of an AxesSubplot object (Notice seaborn doesn't return to us a fig object, just the axes object):\n",
        "ax = sns.histplot(data=data_for_grid_obj)\n",
        "type(ax)"
      ],
      "metadata": {
        "colab": {
          "base_uri": "https://localhost:8080/",
          "height": 282
        },
        "id": "Ib5EDDCcrUWz",
        "outputId": "5802c345-0276-4788-8e53-34cd5a9d22ae"
      },
      "execution_count": null,
      "outputs": [
        {
          "output_type": "execute_result",
          "data": {
            "text/plain": [
              "matplotlib.axes._subplots.AxesSubplot"
            ]
          },
          "metadata": {},
          "execution_count": 25
        },
        {
          "output_type": "display_data",
          "data": {
            "text/plain": [
              "<Figure size 432x288 with 1 Axes>"
            ],
            "image/png": "[encoded data removed]"
          },
          "metadata": {
            "needs_background": "light"
          }
        }
      ]
    },
    {
      "cell_type": "markdown",
      "source": [
        "Now that we got an overview of the anatomy of seaborn and matplotlib, in the next lesson we are going to learn how to access seaborn methods to investigate the distribution of data about Penguins from Palmers Station in Antarctica."
      ],
      "metadata": {
        "id": "thQTfmbwLtU6"
      }
    },
    {
      "cell_type": "markdown",
      "source": [
        "Github page of the Guided Project: https://github.com/jboverio/Coursera_EDA/"
      ],
      "metadata": {
        "id": "pR7oOjS46fbW"
      }
    },
    {
      "cell_type": "markdown",
      "source": [
        "# Plotting and Analyzing Distributions"
      ],
      "metadata": {
        "id": "I-1IkihOC7k3"
      }
    },
    {
      "cell_type": "markdown",
      "source": [
        "Dataset key points:\n",
        "* Culmen in layman's terms is similar the bill of the bird (it is actually the ridge on top of the bill)\n",
        "\n",
        "* Data is about Penguins\n",
        "\n",
        "* There are 3 species of penguins: Gentoo, Chinstrap and Adelie"
      ],
      "metadata": {
        "id": "ek-nUUXgfYHV"
      }
    },
    {
      "cell_type": "code",
      "source": [
        "Penguin = pd.read_csv('https://raw.githubusercontent.com/jboverio/Coursera_EDA/main/penguins_lter.csv')\n",
        "#Data are available by CC-0 license in accordance with the Palmer Station LTER Data Policy and the LTER Data Access Policy for Type I data."
      ],
      "metadata": {
        "id": "PKDjr9-6GuqQ"
      },
      "execution_count": null,
      "outputs": []
    },
    {
      "cell_type": "code",
      "source": [
        "Penguin.head(3)"
      ],
      "metadata": {
        "colab": {
          "base_uri": "https://localhost:8080/",
          "height": 393
        },
        "id": "MYa8M9jNGwdm",
        "outputId": "e31c7711-5a1c-434b-d91e-e5e04a8dd73b"
      },
      "execution_count": null,
      "outputs": [
        {
          "output_type": "execute_result",
          "data": {
            "text/plain": [
              "  studyName  Sample Number                              Species  Region  \\\n",
              "0   PAL0708              1  Adelie Penguin (Pygoscelis adeliae)  Anvers   \n",
              "1   PAL0708              2  Adelie Penguin (Pygoscelis adeliae)  Anvers   \n",
              "2   PAL0708              3  Adelie Penguin (Pygoscelis adeliae)  Anvers   \n",
              "\n",
              "      Island               Stage Individual ID Clutch Completion  Date Egg  \\\n",
              "0  Torgersen  Adult, 1 Egg Stage          N1A1               Yes  11/11/07   \n",
              "1  Torgersen  Adult, 1 Egg Stage          N1A2               Yes  11/11/07   \n",
              "2  Torgersen  Adult, 1 Egg Stage          N2A1               Yes  11/16/07   \n",
              "\n",
              "   Culmen Length (mm)  Culmen Depth (mm)  Flipper Length (mm)  Body Mass (g)  \\\n",
              "0                39.1               18.7                181.0         3750.0   \n",
              "1                39.5               17.4                186.0         3800.0   \n",
              "2                40.3               18.0                195.0         3250.0   \n",
              "\n",
              "      Sex  Delta 15 N (o/oo)  Delta 13 C (o/oo)  \\\n",
              "0    MALE                NaN                NaN   \n",
              "1  FEMALE            8.94956          -24.69454   \n",
              "2  FEMALE            8.36821          -25.33302   \n",
              "\n",
              "                         Comments  \n",
              "0  Not enough blood for isotopes.  \n",
              "1                             NaN  \n",
              "2                             NaN  "
            ],
            "text/html": [
              "\n",
              "  <div id=\"df-fef1b88d-64d7-447f-8338-696199d27d07\">\n",
              "    <div class=\"colab-df-container\">\n",
              "      <div>\n",
              "<style scoped>\n",
              "    .dataframe tbody tr th:only-of-type {\n",
              "        vertical-align: middle;\n",
              "    }\n",
              "\n",
              "    .dataframe tbody tr th {\n",
              "        vertical-align: top;\n",
              "    }\n",
              "\n",
              "    .dataframe thead th {\n",
              "        text-align: right;\n",
              "    }\n",
              "</style>\n",
              "<table border=\"1\" class=\"dataframe\">\n",
              "  <thead>\n",
              "    <tr style=\"text-align: right;\">\n",
              "      <th></th>\n",
              "      <th>studyName</th>\n",
              "      <th>Sample Number</th>\n",
              "      <th>Species</th>\n",
              "      <th>Region</th>\n",
              "      <th>Island</th>\n",
              "      <th>Stage</th>\n",
              "      <th>Individual ID</th>\n",
              "      <th>Clutch Completion</th>\n",
              "      <th>Date Egg</th>\n",
              "      <th>Culmen Length (mm)</th>\n",
              "      <th>Culmen Depth (mm)</th>\n",
              "      <th>Flipper Length (mm)</th>\n",
              "      <th>Body Mass (g)</th>\n",
              "      <th>Sex</th>\n",
              "      <th>Delta 15 N (o/oo)</th>\n",
              "      <th>Delta 13 C (o/oo)</th>\n",
              "      <th>Comments</th>\n",
              "    </tr>\n",
              "  </thead>\n",
              "  <tbody>\n",
              "    <tr>\n",
              "      <th>0</th>\n",
              "      <td>PAL0708</td>\n",
              "      <td>1</td>\n",
              "      <td>Adelie Penguin (Pygoscelis adeliae)</td>\n",
              "      <td>Anvers</td>\n",
              "      <td>Torgersen</td>\n",
              "      <td>Adult, 1 Egg Stage</td>\n",
              "      <td>N1A1</td>\n",
              "      <td>Yes</td>\n",
              "      <td>11/11/07</td>\n",
              "      <td>39.1</td>\n",
              "      <td>18.7</td>\n",
              "      <td>181.0</td>\n",
              "      <td>3750.0</td>\n",
              "      <td>MALE</td>\n",
              "      <td>NaN</td>\n",
              "      <td>NaN</td>\n",
              "      <td>Not enough blood for isotopes.</td>\n",
              "    </tr>\n",
              "    <tr>\n",
              "      <th>1</th>\n",
              "      <td>PAL0708</td>\n",
              "      <td>2</td>\n",
              "      <td>Adelie Penguin (Pygoscelis adeliae)</td>\n",
              "      <td>Anvers</td>\n",
              "      <td>Torgersen</td>\n",
              "      <td>Adult, 1 Egg Stage</td>\n",
              "      <td>N1A2</td>\n",
              "      <td>Yes</td>\n",
              "      <td>11/11/07</td>\n",
              "      <td>39.5</td>\n",
              "      <td>17.4</td>\n",
              "      <td>186.0</td>\n",
              "      <td>3800.0</td>\n",
              "      <td>FEMALE</td>\n",
              "      <td>8.94956</td>\n",
              "      <td>-24.69454</td>\n",
              "      <td>NaN</td>\n",
              "    </tr>\n",
              "    <tr>\n",
              "      <th>2</th>\n",
              "      <td>PAL0708</td>\n",
              "      <td>3</td>\n",
              "      <td>Adelie Penguin (Pygoscelis adeliae)</td>\n",
              "      <td>Anvers</td>\n",
              "      <td>Torgersen</td>\n",
              "      <td>Adult, 1 Egg Stage</td>\n",
              "      <td>N2A1</td>\n",
              "      <td>Yes</td>\n",
              "      <td>11/16/07</td>\n",
              "      <td>40.3</td>\n",
              "      <td>18.0</td>\n",
              "      <td>195.0</td>\n",
              "      <td>3250.0</td>\n",
              "      <td>FEMALE</td>\n",
              "      <td>8.36821</td>\n",
              "      <td>-25.33302</td>\n",
              "      <td>NaN</td>\n",
              "    </tr>\n",
              "  </tbody>\n",
              "</table>\n",
              "</div>\n",
              "      <button class=\"colab-df-convert\" onclick=\"convertToInteractive('df-fef1b88d-64d7-447f-8338-696199d27d07')\"\n",
              "              title=\"Convert this dataframe to an interactive table.\"\n",
              "              style=\"display:none;\">\n",
              "        \n",
              "  <svg xmlns=\"http://www.w3.org/2000/svg\" height=\"24px\"viewBox=\"0 0 24 24\"\n",
              "       width=\"24px\">\n",
              "    <path d=\"M0 0h24v24H0V0z\" fill=\"none\"/>\n",
              "    <path d=\"M18.56 5.44l.94 2.06.94-2.06 2.06-.94-2.06-.94-.94-2.06-.94 2.06-2.06.94zm-11 1L8.5 8.5l.94-2.06 2.06-.94-2.06-.94L8.5 2.5l-.94 2.06-2.06.94zm10 10l.94 2.06.94-2.06 2.06-.94-2.06-.94-.94-2.06-.94 2.06-2.06.94z\"/><path d=\"M17.41 7.96l-1.37-1.37c-.4-.4-.92-.59-1.43-.59-.52 0-1.04.2-1.43.59L10.3 9.45l-7.72 7.72c-.78.78-.78 2.05 0 2.83L4 21.41c.39.39.9.59 1.41.59.51 0 1.02-.2 1.41-.59l7.78-7.78 2.81-2.81c.8-.78.8-2.07 0-2.86zM5.41 20L4 18.59l7.72-7.72 1.47 1.35L5.41 20z\"/>\n",
              "  </svg>\n",
              "      </button>\n",
              "      \n",
              "  <style>\n",
              "    .colab-df-container {\n",
              "      display:flex;\n",
              "      flex-wrap:wrap;\n",
              "      gap: 12px;\n",
              "    }\n",
              "\n",
              "    .colab-df-convert {\n",
              "      background-color: #E8F0FE;\n",
              "      border: none;\n",
              "      border-radius: 50%;\n",
              "      cursor: pointer;\n",
              "      display: none;\n",
              "      fill: #1967D2;\n",
              "      height: 32px;\n",
              "      padding: 0 0 0 0;\n",
              "      width: 32px;\n",
              "    }\n",
              "\n",
              "    .colab-df-convert:hover {\n",
              "      background-color: #E2EBFA;\n",
              "      box-shadow: 0px 1px 2px rgba(60, 64, 67, 0.3), 0px 1px 3px 1px rgba(60, 64, 67, 0.15);\n",
              "      fill: #174EA6;\n",
              "    }\n",
              "\n",
              "    [theme=dark] .colab-df-convert {\n",
              "      background-color: #3B4455;\n",
              "      fill: #D2E3FC;\n",
              "    }\n",
              "\n",
              "    [theme=dark] .colab-df-convert:hover {\n",
              "      background-color: #434B5C;\n",
              "      box-shadow: 0px 1px 3px 1px rgba(0, 0, 0, 0.15);\n",
              "      filter: drop-shadow(0px 1px 2px rgba(0, 0, 0, 0.3));\n",
              "      fill: #FFFFFF;\n",
              "    }\n",
              "  </style>\n",
              "\n",
              "      <script>\n",
              "        const buttonEl =\n",
              "          document.querySelector('#df-fef1b88d-64d7-447f-8338-696199d27d07 button.colab-df-convert');\n",
              "        buttonEl.style.display =\n",
              "          google.colab.kernel.accessAllowed ? 'block' : 'none';\n",
              "\n",
              "        async function convertToInteractive(key) {\n",
              "          const element = document.querySelector('#df-fef1b88d-64d7-447f-8338-696199d27d07');\n",
              "          const dataTable =\n",
              "            await google.colab.kernel.invokeFunction('convertToInteractive',\n",
              "                                                     [key], {});\n",
              "          if (!dataTable) return;\n",
              "\n",
              "          const docLinkHtml = 'Like what you see? Visit the ' +\n",
              "            '<a target=\"_blank\" href=https://colab.research.google.com/notebooks/data_table.ipynb>data table notebook</a>'\n",
              "            + ' to learn more about interactive tables.';\n",
              "          element.innerHTML = '';\n",
              "          dataTable['output_type'] = 'display_data';\n",
              "          await google.colab.output.renderOutput(dataTable, element);\n",
              "          const docLink = document.createElement('div');\n",
              "          docLink.innerHTML = docLinkHtml;\n",
              "          element.appendChild(docLink);\n",
              "        }\n",
              "      </script>\n",
              "    </div>\n",
              "  </div>\n",
              "  "
            ]
          },
          "metadata": {},
          "execution_count": 3
        }
      ]
    },
    {
      "cell_type": "code",
      "source": [
        "Penguin.isna().sum()"
      ],
      "metadata": {
        "colab": {
          "base_uri": "https://localhost:8080/"
        },
        "id": "QG5go4UHGxP1",
        "outputId": "92f958d2-973d-4b6f-bd5e-392b0856fa20"
      },
      "execution_count": null,
      "outputs": [
        {
          "output_type": "execute_result",
          "data": {
            "text/plain": [
              "studyName                0\n",
              "Sample Number            0\n",
              "Species                  0\n",
              "Region                   0\n",
              "Island                   0\n",
              "Stage                    0\n",
              "Individual ID            0\n",
              "Clutch Completion        0\n",
              "Date Egg                 0\n",
              "Culmen Length (mm)       2\n",
              "Culmen Depth (mm)        2\n",
              "Flipper Length (mm)      2\n",
              "Body Mass (g)            2\n",
              "Sex                     10\n",
              "Delta 15 N (o/oo)       14\n",
              "Delta 13 C (o/oo)       13\n",
              "Comments               318\n",
              "dtype: int64"
            ]
          },
          "metadata": {},
          "execution_count": 15
        }
      ]
    },
    {
      "cell_type": "code",
      "source": [
        "del Penguin[\"Comments\"]"
      ],
      "metadata": {
        "id": "zSNEvgpOFYd_"
      },
      "execution_count": null,
      "outputs": []
    },
    {
      "cell_type": "code",
      "source": [
        "Penguin = Penguin.dropna()\n"
      ],
      "metadata": {
        "id": "MjVwQI8u_P9u"
      },
      "execution_count": null,
      "outputs": []
    },
    {
      "cell_type": "markdown",
      "source": [
        "# Histograms"
      ],
      "metadata": {
        "id": "JxzCx3hrU9S3"
      }
    },
    {
      "cell_type": "markdown",
      "source": [
        "Histogram key points:\n",
        "\n",
        "* Use for continuous or discrete data, not recommended for categorical data (bar charts)\n",
        "* Show the shape of the distribution\n",
        "* Use to communicate the distribution of data quickly\n",
        "* Doesn't have space between the bars like a bar chart\n",
        "* **sns.histplot() is to create histograms (it returns an axes matplotlib object)**"
      ],
      "metadata": {
        "id": "DWerKLinmIuf"
      }
    },
    {
      "cell_type": "markdown",
      "source": [
        "Seaborn pattern for plotting, four arguments: x, y, data and hue"
      ],
      "metadata": {
        "id": "D3dble1LlVgi"
      }
    },
    {
      "cell_type": "code",
      "source": [],
      "metadata": {
        "id": "OeP6GCcGzcB_"
      },
      "execution_count": null,
      "outputs": []
    },
    {
      "cell_type": "markdown",
      "source": [
        "# Critical thinking about Histograms and plots in general"
      ],
      "metadata": {
        "id": "8cGzc13pXZr6"
      }
    },
    {
      "cell_type": "code",
      "source": [],
      "metadata": {
        "id": "jZgoA8n1Xel2"
      },
      "execution_count": null,
      "outputs": []
    },
    {
      "cell_type": "markdown",
      "source": [
        "# Box-plots a versatile chart"
      ],
      "metadata": {
        "id": "qNNKVRnisu2y"
      }
    },
    {
      "cell_type": "markdown",
      "source": [
        "Box-plots show something a histogram (out of the box) doesn't show: quartiles, median and outliers, but you lose the visualization of the shape of the data as you can see in the histogram."
      ],
      "metadata": {
        "id": "u79Txsf7s9q6"
      }
    },
    {
      "cell_type": "code",
      "source": [
        " "
      ],
      "metadata": {
        "id": "MxQqDjgK8aCB"
      },
      "execution_count": null,
      "outputs": []
    },
    {
      "cell_type": "markdown",
      "source": [
        "Always remember, are you visualizing aggregated results?"
      ],
      "metadata": {
        "id": "yMjMM4BH0X54"
      }
    },
    {
      "cell_type": "markdown",
      "source": [
        "Seaborn calculates outliers by what is smaller than Q1 - 1.5*IQR (Interquartile range) or bigger than Q3 + 1.5 * IQR"
      ],
      "metadata": {
        "id": "LMDcnWQQIRkG"
      }
    },
    {
      "cell_type": "code",
      "source": [],
      "metadata": {
        "id": "e1veoUhijs_V"
      },
      "execution_count": null,
      "outputs": []
    },
    {
      "cell_type": "markdown",
      "source": [
        "## Violin plots"
      ],
      "metadata": {
        "id": "scEhCfe9kCqL"
      }
    },
    {
      "cell_type": "markdown",
      "source": [
        "Combining kernel density / histograms + box-plots"
      ],
      "metadata": {
        "id": "gzgDJ_WDkGNM"
      }
    },
    {
      "cell_type": "code",
      "source": [
        " "
      ],
      "metadata": {
        "id": "mysHDjISJ4qb"
      },
      "execution_count": null,
      "outputs": []
    },
    {
      "cell_type": "code",
      "source": [],
      "metadata": {
        "id": "I4tgHucinQIc"
      },
      "execution_count": null,
      "outputs": []
    },
    {
      "cell_type": "markdown",
      "source": [
        "https://seaborn.pydata.org/generated/seaborn.violinplot.html#seaborn.violinplot"
      ],
      "metadata": {
        "id": "kPXJZqTmDlCG"
      }
    },
    {
      "cell_type": "markdown",
      "source": [
        "# Distribution of Categorical Data"
      ],
      "metadata": {
        "id": "_FFA4J7hUgc9"
      }
    },
    {
      "cell_type": "markdown",
      "source": [
        "Doesn't make much sense talk about the distribution of a categorical variable. What's the mean of the variable 'Species'? Bar plot is classicaly know for comparisons but could be used to visualize the \"distribution\" of categorical data, but more precisely compare groups."
      ],
      "metadata": {
        "id": "77EkWpfwVFYO"
      }
    },
    {
      "cell_type": "markdown",
      "source": [
        "# **Creating and analyzing Comparisons**"
      ],
      "metadata": {
        "id": "yyNB7miDsQaE"
      }
    },
    {
      "cell_type": "markdown",
      "source": [
        "# Briefly talking about color and human perceptions: **Preattentive attributes.**"
      ],
      "metadata": {
        "id": "xWHx1DulUate"
      }
    },
    {
      "cell_type": "markdown",
      "source": [
        "Preattentive processing occurs without our consciousness at an extremely high, determining what information catches our attention. This is important in visualization because it enables us to direct our viewer’s attention towards the most important information in our visual."
      ],
      "metadata": {
        "id": "hZbRm7Fau0nJ"
      }
    },
    {
      "cell_type": "code",
      "source": [
        " "
      ],
      "metadata": {
        "colab": {
          "base_uri": "https://localhost:8080/",
          "height": 497
        },
        "id": "W4r1CW1qeXTk",
        "outputId": "d436c0df-29af-47d9-8368-df40271df12d"
      },
      "execution_count": null,
      "outputs": [
        {
          "output_type": "display_data",
          "data": {
            "text/plain": [
              "<Figure size 720x576 with 1 Axes>"
            ],
            "image/png": "[encoded data removed]"
          },
          "metadata": {
            "needs_background": "light"
          }
        }
      ]
    },
    {
      "cell_type": "markdown",
      "source": [
        "Univariate bar plot (1 categorical variable):"
      ],
      "metadata": {
        "id": "Hqmg1yUJZ4lH"
      }
    },
    {
      "cell_type": "code",
      "source": [],
      "metadata": {
        "id": "jJsbQRP0hDKu"
      },
      "execution_count": null,
      "outputs": []
    },
    {
      "cell_type": "markdown",
      "source": [
        "Bivariate bar plot with 2 categorical variables:"
      ],
      "metadata": {
        "id": "k6ijL4fxiWYs"
      }
    },
    {
      "cell_type": "code",
      "source": [],
      "metadata": {
        "id": "sysBDc0IiXjt"
      },
      "execution_count": null,
      "outputs": []
    },
    {
      "cell_type": "markdown",
      "source": [
        "Bivariate bar plot (Categorical and Numerical Variable):"
      ],
      "metadata": {
        "id": "PoPIxVw-ZQ_7"
      }
    },
    {
      "cell_type": "code",
      "source": [
        "mock_df = pd.DataFrame({'country': ['Brazil', 'USA', 'India', 'China'], 'population': [210, 330, 1400, 1500]})\n",
        "mock_df"
      ],
      "metadata": {
        "id": "JEpfX0GcsShP",
        "colab": {
          "base_uri": "https://localhost:8080/",
          "height": 173
        },
        "outputId": "2da889d6-d688-4fde-f508-05553894d7ea"
      },
      "execution_count": null,
      "outputs": [
        {
          "output_type": "execute_result",
          "data": {
            "text/plain": [
              "  country  population\n",
              "0  Brazil         210\n",
              "1     USA         330\n",
              "2   India        1400\n",
              "3   China        1500"
            ],
            "text/html": [
              "\n",
              "  <div id=\"df-efb7b94e-4bb3-4062-b5ef-e0336a044376\">\n",
              "    <div class=\"colab-df-container\">\n",
              "      <div>\n",
              "<style scoped>\n",
              "    .dataframe tbody tr th:only-of-type {\n",
              "        vertical-align: middle;\n",
              "    }\n",
              "\n",
              "    .dataframe tbody tr th {\n",
              "        vertical-align: top;\n",
              "    }\n",
              "\n",
              "    .dataframe thead th {\n",
              "        text-align: right;\n",
              "    }\n",
              "</style>\n",
              "<table border=\"1\" class=\"dataframe\">\n",
              "  <thead>\n",
              "    <tr style=\"text-align: right;\">\n",
              "      <th></th>\n",
              "      <th>country</th>\n",
              "      <th>population</th>\n",
              "    </tr>\n",
              "  </thead>\n",
              "  <tbody>\n",
              "    <tr>\n",
              "      <th>0</th>\n",
              "      <td>Brazil</td>\n",
              "      <td>210</td>\n",
              "    </tr>\n",
              "    <tr>\n",
              "      <th>1</th>\n",
              "      <td>USA</td>\n",
              "      <td>330</td>\n",
              "    </tr>\n",
              "    <tr>\n",
              "      <th>2</th>\n",
              "      <td>India</td>\n",
              "      <td>1400</td>\n",
              "    </tr>\n",
              "    <tr>\n",
              "      <th>3</th>\n",
              "      <td>China</td>\n",
              "      <td>1500</td>\n",
              "    </tr>\n",
              "  </tbody>\n",
              "</table>\n",
              "</div>\n",
              "      <button class=\"colab-df-convert\" onclick=\"convertToInteractive('df-efb7b94e-4bb3-4062-b5ef-e0336a044376')\"\n",
              "              title=\"Convert this dataframe to an interactive table.\"\n",
              "              style=\"display:none;\">\n",
              "        \n",
              "  <svg xmlns=\"http://www.w3.org/2000/svg\" height=\"24px\"viewBox=\"0 0 24 24\"\n",
              "       width=\"24px\">\n",
              "    <path d=\"M0 0h24v24H0V0z\" fill=\"none\"/>\n",
              "    <path d=\"M18.56 5.44l.94 2.06.94-2.06 2.06-.94-2.06-.94-.94-2.06-.94 2.06-2.06.94zm-11 1L8.5 8.5l.94-2.06 2.06-.94-2.06-.94L8.5 2.5l-.94 2.06-2.06.94zm10 10l.94 2.06.94-2.06 2.06-.94-2.06-.94-.94-2.06-.94 2.06-2.06.94z\"/><path d=\"M17.41 7.96l-1.37-1.37c-.4-.4-.92-.59-1.43-.59-.52 0-1.04.2-1.43.59L10.3 9.45l-7.72 7.72c-.78.78-.78 2.05 0 2.83L4 21.41c.39.39.9.59 1.41.59.51 0 1.02-.2 1.41-.59l7.78-7.78 2.81-2.81c.8-.78.8-2.07 0-2.86zM5.41 20L4 18.59l7.72-7.72 1.47 1.35L5.41 20z\"/>\n",
              "  </svg>\n",
              "      </button>\n",
              "      \n",
              "  <style>\n",
              "    .colab-df-container {\n",
              "      display:flex;\n",
              "      flex-wrap:wrap;\n",
              "      gap: 12px;\n",
              "    }\n",
              "\n",
              "    .colab-df-convert {\n",
              "      background-color: #E8F0FE;\n",
              "      border: none;\n",
              "      border-radius: 50%;\n",
              "      cursor: pointer;\n",
              "      display: none;\n",
              "      fill: #1967D2;\n",
              "      height: 32px;\n",
              "      padding: 0 0 0 0;\n",
              "      width: 32px;\n",
              "    }\n",
              "\n",
              "    .colab-df-convert:hover {\n",
              "      background-color: #E2EBFA;\n",
              "      box-shadow: 0px 1px 2px rgba(60, 64, 67, 0.3), 0px 1px 3px 1px rgba(60, 64, 67, 0.15);\n",
              "      fill: #174EA6;\n",
              "    }\n",
              "\n",
              "    [theme=dark] .colab-df-convert {\n",
              "      background-color: #3B4455;\n",
              "      fill: #D2E3FC;\n",
              "    }\n",
              "\n",
              "    [theme=dark] .colab-df-convert:hover {\n",
              "      background-color: #434B5C;\n",
              "      box-shadow: 0px 1px 3px 1px rgba(0, 0, 0, 0.15);\n",
              "      filter: drop-shadow(0px 1px 2px rgba(0, 0, 0, 0.3));\n",
              "      fill: #FFFFFF;\n",
              "    }\n",
              "  </style>\n",
              "\n",
              "      <script>\n",
              "        const buttonEl =\n",
              "          document.querySelector('#df-efb7b94e-4bb3-4062-b5ef-e0336a044376 button.colab-df-convert');\n",
              "        buttonEl.style.display =\n",
              "          google.colab.kernel.accessAllowed ? 'block' : 'none';\n",
              "\n",
              "        async function convertToInteractive(key) {\n",
              "          const element = document.querySelector('#df-efb7b94e-4bb3-4062-b5ef-e0336a044376');\n",
              "          const dataTable =\n",
              "            await google.colab.kernel.invokeFunction('convertToInteractive',\n",
              "                                                     [key], {});\n",
              "          if (!dataTable) return;\n",
              "\n",
              "          const docLinkHtml = 'Like what you see? Visit the ' +\n",
              "            '<a target=\"_blank\" href=https://colab.research.google.com/notebooks/data_table.ipynb>data table notebook</a>'\n",
              "            + ' to learn more about interactive tables.';\n",
              "          element.innerHTML = '';\n",
              "          dataTable['output_type'] = 'display_data';\n",
              "          await google.colab.output.renderOutput(dataTable, element);\n",
              "          const docLink = document.createElement('div');\n",
              "          docLink.innerHTML = docLinkHtml;\n",
              "          element.appendChild(docLink);\n",
              "        }\n",
              "      </script>\n",
              "    </div>\n",
              "  </div>\n",
              "  "
            ]
          },
          "metadata": {},
          "execution_count": 34
        }
      ]
    },
    {
      "cell_type": "code",
      "source": [],
      "metadata": {
        "id": "R84lcAdssslj"
      },
      "execution_count": null,
      "outputs": []
    },
    {
      "cell_type": "code",
      "source": [
        "Penguin[['Species', 'Body Mass (g)']].head(8)"
      ],
      "metadata": {
        "colab": {
          "base_uri": "https://localhost:8080/",
          "height": 297
        },
        "id": "hG3rcHG1ZQiE",
        "outputId": "185d3e66-b6bb-466a-c1d6-b818e90518eb"
      },
      "execution_count": null,
      "outputs": [
        {
          "output_type": "execute_result",
          "data": {
            "text/plain": [
              "                                Species  Body Mass (g)\n",
              "1   Adelie Penguin (Pygoscelis adeliae)         3800.0\n",
              "2   Adelie Penguin (Pygoscelis adeliae)         3250.0\n",
              "4   Adelie Penguin (Pygoscelis adeliae)         3450.0\n",
              "5   Adelie Penguin (Pygoscelis adeliae)         3650.0\n",
              "6   Adelie Penguin (Pygoscelis adeliae)         3625.0\n",
              "7   Adelie Penguin (Pygoscelis adeliae)         4675.0\n",
              "14  Adelie Penguin (Pygoscelis adeliae)         4400.0\n",
              "16  Adelie Penguin (Pygoscelis adeliae)         3450.0"
            ],
            "text/html": [
              "\n",
              "  <div id=\"df-a2d3e808-0a4f-4db3-b79b-0cc1fc4128d8\">\n",
              "    <div class=\"colab-df-container\">\n",
              "      <div>\n",
              "<style scoped>\n",
              "    .dataframe tbody tr th:only-of-type {\n",
              "        vertical-align: middle;\n",
              "    }\n",
              "\n",
              "    .dataframe tbody tr th {\n",
              "        vertical-align: top;\n",
              "    }\n",
              "\n",
              "    .dataframe thead th {\n",
              "        text-align: right;\n",
              "    }\n",
              "</style>\n",
              "<table border=\"1\" class=\"dataframe\">\n",
              "  <thead>\n",
              "    <tr style=\"text-align: right;\">\n",
              "      <th></th>\n",
              "      <th>Species</th>\n",
              "      <th>Body Mass (g)</th>\n",
              "    </tr>\n",
              "  </thead>\n",
              "  <tbody>\n",
              "    <tr>\n",
              "      <th>1</th>\n",
              "      <td>Adelie Penguin (Pygoscelis adeliae)</td>\n",
              "      <td>3800.0</td>\n",
              "    </tr>\n",
              "    <tr>\n",
              "      <th>2</th>\n",
              "      <td>Adelie Penguin (Pygoscelis adeliae)</td>\n",
              "      <td>3250.0</td>\n",
              "    </tr>\n",
              "    <tr>\n",
              "      <th>4</th>\n",
              "      <td>Adelie Penguin (Pygoscelis adeliae)</td>\n",
              "      <td>3450.0</td>\n",
              "    </tr>\n",
              "    <tr>\n",
              "      <th>5</th>\n",
              "      <td>Adelie Penguin (Pygoscelis adeliae)</td>\n",
              "      <td>3650.0</td>\n",
              "    </tr>\n",
              "    <tr>\n",
              "      <th>6</th>\n",
              "      <td>Adelie Penguin (Pygoscelis adeliae)</td>\n",
              "      <td>3625.0</td>\n",
              "    </tr>\n",
              "    <tr>\n",
              "      <th>7</th>\n",
              "      <td>Adelie Penguin (Pygoscelis adeliae)</td>\n",
              "      <td>4675.0</td>\n",
              "    </tr>\n",
              "    <tr>\n",
              "      <th>14</th>\n",
              "      <td>Adelie Penguin (Pygoscelis adeliae)</td>\n",
              "      <td>4400.0</td>\n",
              "    </tr>\n",
              "    <tr>\n",
              "      <th>16</th>\n",
              "      <td>Adelie Penguin (Pygoscelis adeliae)</td>\n",
              "      <td>3450.0</td>\n",
              "    </tr>\n",
              "  </tbody>\n",
              "</table>\n",
              "</div>\n",
              "      <button class=\"colab-df-convert\" onclick=\"convertToInteractive('df-a2d3e808-0a4f-4db3-b79b-0cc1fc4128d8')\"\n",
              "              title=\"Convert this dataframe to an interactive table.\"\n",
              "              style=\"display:none;\">\n",
              "        \n",
              "  <svg xmlns=\"http://www.w3.org/2000/svg\" height=\"24px\"viewBox=\"0 0 24 24\"\n",
              "       width=\"24px\">\n",
              "    <path d=\"M0 0h24v24H0V0z\" fill=\"none\"/>\n",
              "    <path d=\"M18.56 5.44l.94 2.06.94-2.06 2.06-.94-2.06-.94-.94-2.06-.94 2.06-2.06.94zm-11 1L8.5 8.5l.94-2.06 2.06-.94-2.06-.94L8.5 2.5l-.94 2.06-2.06.94zm10 10l.94 2.06.94-2.06 2.06-.94-2.06-.94-.94-2.06-.94 2.06-2.06.94z\"/><path d=\"M17.41 7.96l-1.37-1.37c-.4-.4-.92-.59-1.43-.59-.52 0-1.04.2-1.43.59L10.3 9.45l-7.72 7.72c-.78.78-.78 2.05 0 2.83L4 21.41c.39.39.9.59 1.41.59.51 0 1.02-.2 1.41-.59l7.78-7.78 2.81-2.81c.8-.78.8-2.07 0-2.86zM5.41 20L4 18.59l7.72-7.72 1.47 1.35L5.41 20z\"/>\n",
              "  </svg>\n",
              "      </button>\n",
              "      \n",
              "  <style>\n",
              "    .colab-df-container {\n",
              "      display:flex;\n",
              "      flex-wrap:wrap;\n",
              "      gap: 12px;\n",
              "    }\n",
              "\n",
              "    .colab-df-convert {\n",
              "      background-color: #E8F0FE;\n",
              "      border: none;\n",
              "      border-radius: 50%;\n",
              "      cursor: pointer;\n",
              "      display: none;\n",
              "      fill: #1967D2;\n",
              "      height: 32px;\n",
              "      padding: 0 0 0 0;\n",
              "      width: 32px;\n",
              "    }\n",
              "\n",
              "    .colab-df-convert:hover {\n",
              "      background-color: #E2EBFA;\n",
              "      box-shadow: 0px 1px 2px rgba(60, 64, 67, 0.3), 0px 1px 3px 1px rgba(60, 64, 67, 0.15);\n",
              "      fill: #174EA6;\n",
              "    }\n",
              "\n",
              "    [theme=dark] .colab-df-convert {\n",
              "      background-color: #3B4455;\n",
              "      fill: #D2E3FC;\n",
              "    }\n",
              "\n",
              "    [theme=dark] .colab-df-convert:hover {\n",
              "      background-color: #434B5C;\n",
              "      box-shadow: 0px 1px 3px 1px rgba(0, 0, 0, 0.15);\n",
              "      filter: drop-shadow(0px 1px 2px rgba(0, 0, 0, 0.3));\n",
              "      fill: #FFFFFF;\n",
              "    }\n",
              "  </style>\n",
              "\n",
              "      <script>\n",
              "        const buttonEl =\n",
              "          document.querySelector('#df-a2d3e808-0a4f-4db3-b79b-0cc1fc4128d8 button.colab-df-convert');\n",
              "        buttonEl.style.display =\n",
              "          google.colab.kernel.accessAllowed ? 'block' : 'none';\n",
              "\n",
              "        async function convertToInteractive(key) {\n",
              "          const element = document.querySelector('#df-a2d3e808-0a4f-4db3-b79b-0cc1fc4128d8');\n",
              "          const dataTable =\n",
              "            await google.colab.kernel.invokeFunction('convertToInteractive',\n",
              "                                                     [key], {});\n",
              "          if (!dataTable) return;\n",
              "\n",
              "          const docLinkHtml = 'Like what you see? Visit the ' +\n",
              "            '<a target=\"_blank\" href=https://colab.research.google.com/notebooks/data_table.ipynb>data table notebook</a>'\n",
              "            + ' to learn more about interactive tables.';\n",
              "          element.innerHTML = '';\n",
              "          dataTable['output_type'] = 'display_data';\n",
              "          await google.colab.output.renderOutput(dataTable, element);\n",
              "          const docLink = document.createElement('div');\n",
              "          docLink.innerHTML = docLinkHtml;\n",
              "          element.appendChild(docLink);\n",
              "        }\n",
              "      </script>\n",
              "    </div>\n",
              "  </div>\n",
              "  "
            ]
          },
          "metadata": {},
          "execution_count": 38
        }
      ]
    },
    {
      "cell_type": "code",
      "source": [
        "\n"
      ],
      "metadata": {
        "id": "oayahxxi6aIc"
      },
      "execution_count": null,
      "outputs": []
    },
    {
      "cell_type": "code",
      "source": [],
      "metadata": {
        "id": "1etexCGr_0LC"
      },
      "execution_count": null,
      "outputs": []
    },
    {
      "cell_type": "code",
      "source": [],
      "metadata": {
        "id": "PHl2AKBv_0kF"
      },
      "execution_count": null,
      "outputs": []
    },
    {
      "cell_type": "markdown",
      "source": [
        "#Plotting and analyzing the composition of data or part-to-whole:"
      ],
      "metadata": {
        "id": "01SZHDV8e9bd"
      }
    },
    {
      "cell_type": "markdown",
      "source": [
        "#A careful look at pie charts:"
      ],
      "metadata": {
        "id": "UcrLJlcL2x5R"
      }
    },
    {
      "cell_type": "markdown",
      "source": [
        "![image.png](data:image/png;base64,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)"
      ],
      "metadata": {
        "id": "LfHC3d76QT69"
      }
    },
    {
      "cell_type": "markdown",
      "source": [
        "Pie chart principles (when plotting and when visualizing from other):\n",
        "* Try to use pie chart with at max 3 slices (3 groups)\n",
        "* Always make sure percentages sum to 100% (not more not less)\n",
        "* Remember to add legends, title, etc"
      ],
      "metadata": {
        "id": "l4TBYqSBhslV"
      }
    },
    {
      "cell_type": "markdown",
      "source": [
        "Creating a pie chart on seaborn (no result):\n",
        "https://seaborn.pydata.org/search.html?q=pie&check_keywords=yes&area=default\n"
      ],
      "metadata": {
        "id": "hA7Lze2_2ZPy"
      }
    },
    {
      "cell_type": "code",
      "source": [
        "Penguin['Species'].value_counts(normalize=True) #value_counts is used to counts the occurrences and normalize to make it percentages (sum to 100%)"
      ],
      "metadata": {
        "colab": {
          "base_uri": "https://localhost:8080/"
        },
        "id": "SVOajURcUGtq",
        "outputId": "cda42ed3-79e3-4c86-8a7d-60457bc092ab"
      },
      "execution_count": null,
      "outputs": [
        {
          "output_type": "execute_result",
          "data": {
            "text/plain": [
              "Adelie Penguin (Pygoscelis adeliae)          0.427692\n",
              "Gentoo penguin (Pygoscelis papua)            0.366154\n",
              "Chinstrap penguin (Pygoscelis antarctica)    0.206154\n",
              "Name: Species, dtype: float64"
            ]
          },
          "metadata": {},
          "execution_count": 33
        }
      ]
    },
    {
      "cell_type": "code",
      "source": [],
      "metadata": {
        "id": "nBLpWsZJR9ET"
      },
      "execution_count": null,
      "outputs": []
    },
    {
      "cell_type": "markdown",
      "source": [
        "Creating a pie chart with Pandas"
      ],
      "metadata": {
        "id": "QjhZ-JERUtDc"
      }
    },
    {
      "cell_type": "code",
      "source": [],
      "metadata": {
        "id": "5JYSFMtl27x5"
      },
      "execution_count": null,
      "outputs": []
    },
    {
      "cell_type": "markdown",
      "source": [
        "# Relationships"
      ],
      "metadata": {
        "id": "Vi0c3G0W5uZK"
      }
    },
    {
      "cell_type": "markdown",
      "source": [
        "Scatter plots"
      ],
      "metadata": {
        "id": "55swFWXz7ME4"
      }
    },
    {
      "cell_type": "markdown",
      "source": [
        "Ok, so now, suppose we want to check if variables have some kind of relationship going on, for example, suppose you want to check if a variable increases the other increases too or decreases, that they have some kind of correlation. How could you check this visually?"
      ],
      "metadata": {
        "id": "yKJ9MVRPDoIb"
      }
    },
    {
      "cell_type": "markdown",
      "source": [
        "Meet the scatter plot: Scatter plots plot the relationship between two variables as individual points, without connecting to each other. It helps visualize how these points spread across the x and y axes to find whether there are any patterns or clusters within the data. "
      ],
      "metadata": {
        "id": "_IfGZebWEHef"
      }
    },
    {
      "cell_type": "code",
      "source": [],
      "metadata": {
        "id": "qJeJ76Q9IFnW"
      },
      "execution_count": null,
      "outputs": []
    },
    {
      "cell_type": "markdown",
      "source": [
        "So it seems there is a relationship between culmen length and body mass, as the heavier the penguin, the bigger will be their beak."
      ],
      "metadata": {
        "id": "MmeMi0_IH2ya"
      }
    },
    {
      "cell_type": "code",
      "source": [
        "\n"
      ],
      "metadata": {
        "id": "RumzFOehIa-i"
      },
      "execution_count": null,
      "outputs": []
    },
    {
      "cell_type": "markdown",
      "source": [
        "This is the same as to think at the previous figure as being an aggregate of the data, because there we were looking at all penguins, maybe some Species doesn't follow that relationship of bigger body mass leading to a bigger beak, right? Well just looking at the chart, it seems to me that the blue dots and the green dots show a stronger relationship as the orange dots (Chinstrap species) seem to be more dispersed with some heavy guys who have shorter beaks."
      ],
      "metadata": {
        "id": "Ni-jYJEwIiK7"
      }
    },
    {
      "cell_type": "markdown",
      "source": [
        "Categorical Variables Scatter plots"
      ],
      "metadata": {
        "id": "BFhwSbdQuc24"
      }
    },
    {
      "cell_type": "markdown",
      "source": [
        "The problem of plotting with categorical data relationships: now suppose I wanted to see the relationship between gender and bodyweight. You can see that all the points fall above each other."
      ],
      "metadata": {
        "id": "HoIXJF8ERQBe"
      }
    },
    {
      "cell_type": "code",
      "source": [],
      "metadata": {
        "id": "15nD0JE_JoCR"
      },
      "execution_count": null,
      "outputs": []
    },
    {
      "cell_type": "code",
      "source": [],
      "metadata": {
        "id": "sJjvjaQRLL6L"
      },
      "execution_count": null,
      "outputs": []
    },
    {
      "cell_type": "code",
      "source": [
        " "
      ],
      "metadata": {
        "id": "gEjmcR5yQkQO"
      },
      "execution_count": null,
      "outputs": []
    },
    {
      "cell_type": "markdown",
      "source": [
        "# Capstone Activity"
      ],
      "metadata": {
        "id": "-gD_u6hKy5Yb"
      }
    },
    {
      "cell_type": "markdown",
      "source": [
        "Scenario: Your supervisor asked you to conduct Exploratory Data Analysis on real data about food servers’ tips in restaurants and report to him your discoveries.\n",
        "\n",
        "\n",
        "What I want you to do: Apply our framework of looking at distributions, compositions, relationships and comparisons in our data."
      ],
      "metadata": {
        "id": "hfTT-MDIvCB-"
      }
    },
    {
      "cell_type": "code",
      "source": [
        "import pandas as pd\n",
        "import seaborn as sns\n",
        "import matplotlib.pyplot as plt"
      ],
      "metadata": {
        "id": "w9EdNY2cfWPa"
      },
      "execution_count": null,
      "outputs": []
    },
    {
      "cell_type": "code",
      "source": [
        "tips = sns.load_dataset(\"tips\")"
      ],
      "metadata": {
        "id": "lBcmbaSn0UBa"
      },
      "execution_count": null,
      "outputs": []
    },
    {
      "cell_type": "markdown",
      "source": [
        "References: Tips dataset. This data appeared at first time by Bryant, P. G. and Smith, M in Practical Data Analysis: Case Studies in Business Statistics. A data frame with 244 rows and 7 variables."
      ],
      "metadata": {
        "id": "vK_4RJbF1T9a"
      }
    },
    {
      "cell_type": "markdown",
      "source": [
        "**Details of the dataset:**\n",
        "\n",
        "tip in dollars,\n",
        "\n",
        "bill in dollars,\n",
        "\n",
        "sex of the bill payer,\n",
        "\n",
        "whether there were smokers in the party,\n",
        "\n",
        "day of the week,\n",
        "\n",
        "time of day,\n",
        "\n",
        "size of the party.\n",
        "\n",
        "In all he recorded 244 tips. The data was reported in a collection of case studies for business statistics (Bryant & Smith 1995)."
      ],
      "metadata": {
        "id": "9pe1nFY4m0r6"
      }
    },
    {
      "cell_type": "code",
      "source": [
        "tips"
      ],
      "metadata": {
        "colab": {
          "base_uri": "https://localhost:8080/",
          "height": 424
        },
        "id": "TjVuds4P10ne",
        "outputId": "56ca16c0-bcf3-43a7-8f81-09855b863247"
      },
      "execution_count": null,
      "outputs": [
        {
          "output_type": "execute_result",
          "data": {
            "text/plain": [
              "     total_bill   tip     sex smoker   day    time  size\n",
              "0         16.99  1.01  Female     No   Sun  Dinner     2\n",
              "1         10.34  1.66    Male     No   Sun  Dinner     3\n",
              "2         21.01  3.50    Male     No   Sun  Dinner     3\n",
              "3         23.68  3.31    Male     No   Sun  Dinner     2\n",
              "4         24.59  3.61  Female     No   Sun  Dinner     4\n",
              "..          ...   ...     ...    ...   ...     ...   ...\n",
              "239       29.03  5.92    Male     No   Sat  Dinner     3\n",
              "240       27.18  2.00  Female    Yes   Sat  Dinner     2\n",
              "241       22.67  2.00    Male    Yes   Sat  Dinner     2\n",
              "242       17.82  1.75    Male     No   Sat  Dinner     2\n",
              "243       18.78  3.00  Female     No  Thur  Dinner     2\n",
              "\n",
              "[244 rows x 7 columns]"
            ],
            "text/html": [
              "\n",
              "  <div id=\"df-31c21456-41fa-48c3-8449-20e7ecf6b1eb\">\n",
              "    <div class=\"colab-df-container\">\n",
              "      <div>\n",
              "<style scoped>\n",
              "    .dataframe tbody tr th:only-of-type {\n",
              "        vertical-align: middle;\n",
              "    }\n",
              "\n",
              "    .dataframe tbody tr th {\n",
              "        vertical-align: top;\n",
              "    }\n",
              "\n",
              "    .dataframe thead th {\n",
              "        text-align: right;\n",
              "    }\n",
              "</style>\n",
              "<table border=\"1\" class=\"dataframe\">\n",
              "  <thead>\n",
              "    <tr style=\"text-align: right;\">\n",
              "      <th></th>\n",
              "      <th>total_bill</th>\n",
              "      <th>tip</th>\n",
              "      <th>sex</th>\n",
              "      <th>smoker</th>\n",
              "      <th>day</th>\n",
              "      <th>time</th>\n",
              "      <th>size</th>\n",
              "    </tr>\n",
              "  </thead>\n",
              "  <tbody>\n",
              "    <tr>\n",
              "      <th>0</th>\n",
              "      <td>16.99</td>\n",
              "      <td>1.01</td>\n",
              "      <td>Female</td>\n",
              "      <td>No</td>\n",
              "      <td>Sun</td>\n",
              "      <td>Dinner</td>\n",
              "      <td>2</td>\n",
              "    </tr>\n",
              "    <tr>\n",
              "      <th>1</th>\n",
              "      <td>10.34</td>\n",
              "      <td>1.66</td>\n",
              "      <td>Male</td>\n",
              "      <td>No</td>\n",
              "      <td>Sun</td>\n",
              "      <td>Dinner</td>\n",
              "      <td>3</td>\n",
              "    </tr>\n",
              "    <tr>\n",
              "      <th>2</th>\n",
              "      <td>21.01</td>\n",
              "      <td>3.50</td>\n",
              "      <td>Male</td>\n",
              "      <td>No</td>\n",
              "      <td>Sun</td>\n",
              "      <td>Dinner</td>\n",
              "      <td>3</td>\n",
              "    </tr>\n",
              "    <tr>\n",
              "      <th>3</th>\n",
              "      <td>23.68</td>\n",
              "      <td>3.31</td>\n",
              "      <td>Male</td>\n",
              "      <td>No</td>\n",
              "      <td>Sun</td>\n",
              "      <td>Dinner</td>\n",
              "      <td>2</td>\n",
              "    </tr>\n",
              "    <tr>\n",
              "      <th>4</th>\n",
              "      <td>24.59</td>\n",
              "      <td>3.61</td>\n",
              "      <td>Female</td>\n",
              "      <td>No</td>\n",
              "      <td>Sun</td>\n",
              "      <td>Dinner</td>\n",
              "      <td>4</td>\n",
              "    </tr>\n",
              "    <tr>\n",
              "      <th>...</th>\n",
              "      <td>...</td>\n",
              "      <td>...</td>\n",
              "      <td>...</td>\n",
              "      <td>...</td>\n",
              "      <td>...</td>\n",
              "      <td>...</td>\n",
              "      <td>...</td>\n",
              "    </tr>\n",
              "    <tr>\n",
              "      <th>239</th>\n",
              "      <td>29.03</td>\n",
              "      <td>5.92</td>\n",
              "      <td>Male</td>\n",
              "      <td>No</td>\n",
              "      <td>Sat</td>\n",
              "      <td>Dinner</td>\n",
              "      <td>3</td>\n",
              "    </tr>\n",
              "    <tr>\n",
              "      <th>240</th>\n",
              "      <td>27.18</td>\n",
              "      <td>2.00</td>\n",
              "      <td>Female</td>\n",
              "      <td>Yes</td>\n",
              "      <td>Sat</td>\n",
              "      <td>Dinner</td>\n",
              "      <td>2</td>\n",
              "    </tr>\n",
              "    <tr>\n",
              "      <th>241</th>\n",
              "      <td>22.67</td>\n",
              "      <td>2.00</td>\n",
              "      <td>Male</td>\n",
              "      <td>Yes</td>\n",
              "      <td>Sat</td>\n",
              "      <td>Dinner</td>\n",
              "      <td>2</td>\n",
              "    </tr>\n",
              "    <tr>\n",
              "      <th>242</th>\n",
              "      <td>17.82</td>\n",
              "      <td>1.75</td>\n",
              "      <td>Male</td>\n",
              "      <td>No</td>\n",
              "      <td>Sat</td>\n",
              "      <td>Dinner</td>\n",
              "      <td>2</td>\n",
              "    </tr>\n",
              "    <tr>\n",
              "      <th>243</th>\n",
              "      <td>18.78</td>\n",
              "      <td>3.00</td>\n",
              "      <td>Female</td>\n",
              "      <td>No</td>\n",
              "      <td>Thur</td>\n",
              "      <td>Dinner</td>\n",
              "      <td>2</td>\n",
              "    </tr>\n",
              "  </tbody>\n",
              "</table>\n",
              "<p>244 rows × 7 columns</p>\n",
              "</div>\n",
              "      <button class=\"colab-df-convert\" onclick=\"convertToInteractive('df-31c21456-41fa-48c3-8449-20e7ecf6b1eb')\"\n",
              "              title=\"Convert this dataframe to an interactive table.\"\n",
              "              style=\"display:none;\">\n",
              "        \n",
              "  <svg xmlns=\"http://www.w3.org/2000/svg\" height=\"24px\"viewBox=\"0 0 24 24\"\n",
              "       width=\"24px\">\n",
              "    <path d=\"M0 0h24v24H0V0z\" fill=\"none\"/>\n",
              "    <path d=\"M18.56 5.44l.94 2.06.94-2.06 2.06-.94-2.06-.94-.94-2.06-.94 2.06-2.06.94zm-11 1L8.5 8.5l.94-2.06 2.06-.94-2.06-.94L8.5 2.5l-.94 2.06-2.06.94zm10 10l.94 2.06.94-2.06 2.06-.94-2.06-.94-.94-2.06-.94 2.06-2.06.94z\"/><path d=\"M17.41 7.96l-1.37-1.37c-.4-.4-.92-.59-1.43-.59-.52 0-1.04.2-1.43.59L10.3 9.45l-7.72 7.72c-.78.78-.78 2.05 0 2.83L4 21.41c.39.39.9.59 1.41.59.51 0 1.02-.2 1.41-.59l7.78-7.78 2.81-2.81c.8-.78.8-2.07 0-2.86zM5.41 20L4 18.59l7.72-7.72 1.47 1.35L5.41 20z\"/>\n",
              "  </svg>\n",
              "      </button>\n",
              "      \n",
              "  <style>\n",
              "    .colab-df-container {\n",
              "      display:flex;\n",
              "      flex-wrap:wrap;\n",
              "      gap: 12px;\n",
              "    }\n",
              "\n",
              "    .colab-df-convert {\n",
              "      background-color: #E8F0FE;\n",
              "      border: none;\n",
              "      border-radius: 50%;\n",
              "      cursor: pointer;\n",
              "      display: none;\n",
              "      fill: #1967D2;\n",
              "      height: 32px;\n",
              "      padding: 0 0 0 0;\n",
              "      width: 32px;\n",
              "    }\n",
              "\n",
              "    .colab-df-convert:hover {\n",
              "      background-color: #E2EBFA;\n",
              "      box-shadow: 0px 1px 2px rgba(60, 64, 67, 0.3), 0px 1px 3px 1px rgba(60, 64, 67, 0.15);\n",
              "      fill: #174EA6;\n",
              "    }\n",
              "\n",
              "    [theme=dark] .colab-df-convert {\n",
              "      background-color: #3B4455;\n",
              "      fill: #D2E3FC;\n",
              "    }\n",
              "\n",
              "    [theme=dark] .colab-df-convert:hover {\n",
              "      background-color: #434B5C;\n",
              "      box-shadow: 0px 1px 3px 1px rgba(0, 0, 0, 0.15);\n",
              "      filter: drop-shadow(0px 1px 2px rgba(0, 0, 0, 0.3));\n",
              "      fill: #FFFFFF;\n",
              "    }\n",
              "  </style>\n",
              "\n",
              "      <script>\n",
              "        const buttonEl =\n",
              "          document.querySelector('#df-31c21456-41fa-48c3-8449-20e7ecf6b1eb button.colab-df-convert');\n",
              "        buttonEl.style.display =\n",
              "          google.colab.kernel.accessAllowed ? 'block' : 'none';\n",
              "\n",
              "        async function convertToInteractive(key) {\n",
              "          const element = document.querySelector('#df-31c21456-41fa-48c3-8449-20e7ecf6b1eb');\n",
              "          const dataTable =\n",
              "            await google.colab.kernel.invokeFunction('convertToInteractive',\n",
              "                                                     [key], {});\n",
              "          if (!dataTable) return;\n",
              "\n",
              "          const docLinkHtml = 'Like what you see? Visit the ' +\n",
              "            '<a target=\"_blank\" href=https://colab.research.google.com/notebooks/data_table.ipynb>data table notebook</a>'\n",
              "            + ' to learn more about interactive tables.';\n",
              "          element.innerHTML = '';\n",
              "          dataTable['output_type'] = 'display_data';\n",
              "          await google.colab.output.renderOutput(dataTable, element);\n",
              "          const docLink = document.createElement('div');\n",
              "          docLink.innerHTML = docLinkHtml;\n",
              "          element.appendChild(docLink);\n",
              "        }\n",
              "      </script>\n",
              "    </div>\n",
              "  </div>\n",
              "  "
            ]
          },
          "metadata": {},
          "execution_count": 25
        }
      ]
    },
    {
      "cell_type": "code",
      "source": [
        "tips.info()"
      ],
      "metadata": {
        "colab": {
          "base_uri": "https://localhost:8080/"
        },
        "id": "v99WwDOV2ZpX",
        "outputId": "a7365b19-9dbd-4784-a1ea-b122ba426bd7"
      },
      "execution_count": null,
      "outputs": [
        {
          "output_type": "stream",
          "name": "stdout",
          "text": [
            "<class 'pandas.core.frame.DataFrame'>\n",
            "RangeIndex: 244 entries, 0 to 243\n",
            "Data columns (total 7 columns):\n",
            " #   Column      Non-Null Count  Dtype   \n",
            "---  ------      --------------  -----   \n",
            " 0   total_bill  244 non-null    float64 \n",
            " 1   tip         244 non-null    float64 \n",
            " 2   sex         244 non-null    category\n",
            " 3   smoker      244 non-null    category\n",
            " 4   day         244 non-null    category\n",
            " 5   time        244 non-null    category\n",
            " 6   size        244 non-null    int64   \n",
            "dtypes: category(4), float64(2), int64(1)\n",
            "memory usage: 7.4 KB\n"
          ]
        }
      ]
    },
    {
      "cell_type": "code",
      "source": [],
      "metadata": {
        "id": "cuawIf0Vkwwm"
      },
      "execution_count": null,
      "outputs": []
    },
    {
      "cell_type": "markdown",
      "source": [
        "## Distributions"
      ],
      "metadata": {
        "id": "H2Mbr94m2ETG"
      }
    },
    {
      "cell_type": "code",
      "source": [],
      "metadata": {
        "id": "wuKXuZdx3WFl"
      },
      "execution_count": null,
      "outputs": []
    },
    {
      "cell_type": "code",
      "source": [],
      "metadata": {
        "id": "99UbhwDjMY8s"
      },
      "execution_count": null,
      "outputs": []
    },
    {
      "cell_type": "code",
      "source": [],
      "metadata": {
        "id": "FeHPzdhJkbxi"
      },
      "execution_count": null,
      "outputs": []
    },
    {
      "cell_type": "code",
      "source": [],
      "metadata": {
        "id": "a6Wt5hFO2mHw"
      },
      "execution_count": null,
      "outputs": []
    },
    {
      "cell_type": "code",
      "source": [],
      "metadata": {
        "id": "D5Oqx6AQ11sy"
      },
      "execution_count": null,
      "outputs": []
    },
    {
      "cell_type": "markdown",
      "source": [
        "## Comparisons (plotting categorical data)"
      ],
      "metadata": {
        "id": "1YSG3qfm2GGs"
      }
    },
    {
      "cell_type": "markdown",
      "source": [
        "## Relationships"
      ],
      "metadata": {
        "id": "OMeymIvh2Hkv"
      }
    },
    {
      "cell_type": "markdown",
      "source": [
        "## Compositions"
      ],
      "metadata": {
        "id": "qy_S4-SW2Lug"
      }
    },
    {
      "cell_type": "code",
      "source": [
        "\n"
      ],
      "metadata": {
        "id": "fngq--NB2NCi",
        "colab": {
          "base_uri": "https://localhost:8080/",
          "height": 466
        },
        "outputId": "6c89c8ff-69d6-489c-9114-3bc1f6b1eec9"
      },
      "execution_count": null,
      "outputs": [
        {
          "output_type": "display_data",
          "data": {
            "text/plain": [
              "<Figure size 720x576 with 1 Axes>"
            ],
            "image/png": "[encoded data removed]"
          },
          "metadata": {}
        }
      ]
    },
    {
      "cell_type": "code",
      "source": [],
      "metadata": {
        "id": "AYrSuIidluX7"
      },
      "execution_count": null,
      "outputs": []
    }
  ]
}